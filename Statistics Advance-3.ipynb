{
 "cells": [
  {
   "cell_type": "markdown",
   "id": "e0e9ff87-fa85-417f-9ce6-f9ab00f13499",
   "metadata": {},
   "source": [
    "## Jai maa saraswati "
   ]
  },
  {
   "cell_type": "markdown",
   "id": "acf38ad5-52ad-4ea8-ac08-0315e4a7952b",
   "metadata": {},
   "source": [
    "Q1: What is Estimation Statistics? Explain point estimate and interval estimate.\n"
   ]
  },
  {
   "cell_type": "markdown",
   "id": "02d7f349-c1bb-4f28-a4e0-e18283f432b1",
   "metadata": {},
   "source": [
    "* Estimation Statistics It is an observed numerical value used for to Estimate the Unknown Population Parameter , \n",
    "  We use the Sample Population Data to Estimate the Poupulation Data It is an Numerical Value. \n",
    "\n",
    "* Point Estimate => It is a single Numerical Value used to Estimate the Unknown population Parameter . Sample mean is a\n",
    "                    Point Estimate of Population Mean . \n",
    "* Interval Estimate => Range of Value used for Estimate the Population Data . Interal Estimate is a Parameter of Population\n",
    "                       Paramter are called Confidence Interval . "
   ]
  },
  {
   "cell_type": "markdown",
   "id": "3714b85b-907e-4508-9b3c-d006f487a76c",
   "metadata": {},
   "source": [
    "Q2. Write a Python function to estimate the population mean using a sample mean and standard\n",
    "deviation.|"
   ]
  },
  {
   "cell_type": "code",
   "execution_count": 21,
   "id": "4980291a-40c9-4720-bda5-0f23f8c56511",
   "metadata": {},
   "outputs": [
    {
     "name": "stdout",
     "output_type": "stream",
     "text": [
      "Estimated population mean is between 48.54 and 52.46.\n"
     ]
    }
   ],
   "source": [
    "def estimate_population_mean(sample_mean, sample_std_dev, sample_size):\n",
    "    \"\"\"\n",
    "    Estimate the population mean using a sample mean and standard deviation.\n",
    "    \n",
    "    Parameters:\n",
    "        sample_mean (float): The mean of the sample.\n",
    "        sample_std_dev (float): The standard deviation of the sample.\n",
    "        sample_size (int): The size of the sample.\n",
    "    \n",
    "    Returns:\n",
    "        float: Estimated population mean.\n",
    "    \"\"\"\n",
    "    import math\n",
    "    \n",
    "    # Calculate the standard error\n",
    "    standard_error = sample_std_dev / math.sqrt(sample_size)\n",
    "    \n",
    "    # Calculate the margin of error\n",
    "    margin_of_error = 1.96 * standard_error  # Assuming 95% confidence interval (z-value for 95% CI is 1.96)\n",
    "    \n",
    "    # Calculate the lower and upper bounds of the confidence interval\n",
    "    lower_bound = sample_mean - margin_of_error\n",
    "    upper_bound = sample_mean + margin_of_error\n",
    "    \n",
    "    # Return the estimated population mean\n",
    "    return lower_bound, upper_bound\n",
    "\n",
    "# Example usage:\n",
    "sample_mean = 50.5\n",
    "sample_std_dev = 10.0\n",
    "sample_size = 100\n",
    "lower_bound, upper_bound = estimate_population_mean(sample_mean, sample_std_dev, sample_size)\n",
    "print(f\"Estimated population mean is between {lower_bound} and {upper_bound}.\")\n"
   ]
  },
  {
   "cell_type": "markdown",
   "id": "530b9305-ed0e-428a-96e3-4ec1901d8d66",
   "metadata": {},
   "source": [
    "Q3: What is Hypothesis testing? Why is it used? State the importance of Hypothesis testing."
   ]
  },
  {
   "cell_type": "markdown",
   "id": "ad9d8bf2-bfd4-43cf-b18e-7fc2841f2a34",
   "metadata": {},
   "source": [
    "# Hypothesis Testing\n",
    "\n",
    "*  Hypothesis Testing is used for conclusion From Sample Data to conclude the population Data . In this\n",
    "   Test We assume null hypothesis based on given Sample Data and based on Statistcial Caculation we Reject or Accept our\n",
    "   null Hypothesis after this we conclude our population Data .\n",
    "  \n",
    "* Uses of Hypothesis Testing :-\n",
    "\n",
    "* => We use Hypothesis Testing for population data on the basis of sample Data .\n",
    "* => Decision Making\n",
    "* => Comapring Groups\n",
    "* => Quality Control\n",
    "\n",
    "# Importance of hypothesis testing\n",
    "\n",
    "* => Validating Research Claims\n",
    "* => Inference Making\n",
    "* => Decision Making\n",
    "* => Quantifying Uncertainty\n",
    "* => Comparing Groups"
   ]
  },
  {
   "cell_type": "markdown",
   "id": "041339da-3cbc-472e-9590-6faed8d53f8b",
   "metadata": {},
   "source": [
    "Q4. Create a hypothesis that states whether the average weight of male college students is greater than\n",
    "the average weight of female college students."
   ]
  },
  {
   "cell_type": "markdown",
   "id": "0413540c-24e6-42df-ad97-d254021b6a5f",
   "metadata": {},
   "source": [
    "* Null_Hypothesis(Ho) : The average weight of male college students is equal to or less than the average weight of female\n",
    "                        college .\n",
    "                        \n",
    "* Alternative_Hypothesis(H1) : The average weight of male college students is grater than the average weight of female\n",
    "                               college .\n",
    "                               \n",
    "\n",
    "* In symbols :-\n",
    "\n",
    "* H0: μ_male <= μ_female\n",
    "* H1: μ_male > μ_female \n",
    "\n",
    "\n",
    "* Here μ_male Represent the population mean of average boys weight and μ_female  represent the population mean weigt of\n",
    "  Girls ."
   ]
  },
  {
   "cell_type": "markdown",
   "id": "19f758fd-4b25-41a2-bee3-6f3411d2be6c",
   "metadata": {},
   "source": [
    "Q5. Write a Python script to conduct a hypothesis test on the difference between two population means,\n",
    "given a sample from each population."
   ]
  },
  {
   "cell_type": "code",
   "execution_count": 6,
   "id": "c2540087-ecb8-4c63-bbe8-283a776beb16",
   "metadata": {},
   "outputs": [
    {
     "name": "stdout",
     "output_type": "stream",
     "text": [
      "Results of two Sample T-Test:\n",
      "t_statistics: 10.849831563616391\n",
      "P_value 3.9974293340893203e-22\n",
      "Reject the Null Hypothesis.There is sufficient evidence to conclude that the average weight of male college students is greater than the average weight of female college students.\n"
     ]
    }
   ],
   "source": [
    "import numpy as np \n",
    "from scipy import stats\n",
    "\n",
    "# Generate the Sample Data for the girls & Boys College students \n",
    "np.random.seed(45) ## For Reproducibility\n",
    "\n",
    "male_weights = np.random.normal(loc=180,scale=20,size=100)  # Mean Weight :180lbs, standard_deviaton : 20lbs\n",
    "female_weights = np.random.normal(loc=150,scale=15,size=100) # Mean Weiht : 150lbs , standard_deviation : 15lbs\n",
    "\n",
    "# Perform a Two-sample T-test\n",
    "t_statistics , p_value = stats.ttest_ind(male_weights, female_weights , alternative=\"greater\")\n",
    "\n",
    "# Prints the Results :\n",
    "print(\"Results of two Sample T-Test:\")\n",
    "print(\"t_statistics:\",t_statistics)\n",
    "print(\"P_value\",p_value)\n",
    "\n",
    "# Interpret the Results\n",
    "alpha = 0.05  # Significance Level\n",
    "if p_value < alpha :\n",
    "    print(\"Reject the Null Hypothesis.There is sufficient evidence to conclude that the average weight of male college students is greater than the average weight of female college students.\")\n",
    "else :\n",
    "    print(\"Fail to reject the null hypothesis. There is not enough evidence to conclude that the average weight of male college students is greater than the average weight of female college students.\")"
   ]
  },
  {
   "cell_type": "markdown",
   "id": "ea60c5b3-11f7-4305-be64-395941a14a3d",
   "metadata": {},
   "source": [
    "Q6: What is a null and alternative hypothesis? Give some examples ."
   ]
  },
  {
   "cell_type": "markdown",
   "id": "c4d8f131-cf91-4f82-935c-ea95bd79e5dd",
   "metadata": {},
   "source": [
    "# NULL HYPOTHESIS(H0)\n",
    "\n",
    "* A null Hypothesis is a assumption in which We assume the data have Right information About the Population from the given     Data or from The Sample Data . We perfrom the test like Z-test , T-test If our assumpiton is Right we accept the Null       Hypothesis other wise we Reject It . It is Denoted by (Ho) .\n",
    "  \n",
    "# ALTERNATIVE HYPOTHESIS(H1)\n",
    "\n",
    "* Alternative Hypothesis is the opposite of the Null hypothesis In the other word the null hypothesis says the given sample\n",
    "  Data or Given Data is wrong if the given Data is wrong we Failed to Reject the Alternative Hypothesis By perfrom The \n",
    "  Hypothesis Testing .\n",
    "  \n",
    "* Let us Taking the Example :-\n",
    "\n",
    "* A company manufacture the Bulb which have claim the Bulb Perfrom 1 year or more than 1 year . When taking the some sample   of 10 Bulb and found the bulb is Working only 9 month which is less than the 1 year .   \n",
    "  \n",
    "* Null Hypothesis(H0) :- let us assuming the Bulb is Working  1 year or more than 1 year .\n",
    "                         12 >= 9\n",
    "                         \n",
    "* Alternative Hypothesis :- the Bulb is working less than the year .\n",
    "                            12 is not equal to 9"
   ]
  },
  {
   "cell_type": "markdown",
   "id": "2803faef-cf29-4b4a-970e-6fc6e7e03bc1",
   "metadata": {},
   "source": [
    "Q7: Write down the steps involved in hypothesis testing ."
   ]
  },
  {
   "cell_type": "markdown",
   "id": "b69630c7-b933-475b-a1cd-0bb04f16a281",
   "metadata": {},
   "source": [
    "# HYPOTHESIS TESTING ^_^\n",
    "\n",
    "* There are 5 steps for Hypothesis Testing .\n",
    "\n",
    "* Set up hypothesis(Null Hypothesis And Alternative Hypothesis)\n",
    "* Set up Significance Value(Alpha Value or Eror Percentage%) => 0.1% , 1% , 0.5% , 10%\n",
    "* Setting up Test Criterion(Z-Test,Student T-Test , F-test)\n",
    "* Doing the Calculation\n",
    "* Making the Decision "
   ]
  },
  {
   "cell_type": "markdown",
   "id": "bc3386d2-a65a-4ac0-8235-2d4f0b765954",
   "metadata": {},
   "source": [
    "Q8. Define p-value and explain its significance in hypothesis testing.\n",
    "\n"
   ]
  },
  {
   "cell_type": "markdown",
   "id": "d8ca813c-6a4c-4eae-a228-7d077878be80",
   "metadata": {},
   "source": [
    "* A P-value measure the probablity of obatining the observed Result , Assuing that Null Hypothesis is True . the Lower \n",
    "  P-value is greater than the statistical Significance of the observed Difference . A P-value of 0.05 or lower is generally\n",
    "  Consider Statistically Significance . The P-value find The Number of Error in the Data ."
   ]
  },
  {
   "cell_type": "markdown",
   "id": "bc87f3dc-e64e-42b0-8a45-470577ebea9f",
   "metadata": {},
   "source": [
    "Q9. Generate a Student's t-distribution plot using Python's matplotlib library, with the degrees of freedom\n",
    "    parameter set to 10."
   ]
  },
  {
   "cell_type": "code",
   "execution_count": 4,
   "id": "a3f10abd-bdd1-45ac-83e0-f261c681b20c",
   "metadata": {},
   "outputs": [
    {
     "data": {
      "image/png": "[encoded data removed]",
      "text/plain": [
       "<Figure size 640x480 with 1 Axes>"
      ]
     },
     "metadata": {},
     "output_type": "display_data"
    }
   ],
   "source": [
    "import numpy as np\n",
    "import matplotlib.pyplot as plt \n",
    "from scipy.stats import t \n",
    "\n",
    "# Define The Degree of Freedom \n",
    "df = 10\n",
    "\n",
    "# Generate the x-Value\n",
    "x = np.linspace(-5,5,1000)\n",
    "\n",
    "# Calculate the Probablity Density Funtion(PDF) for the students-T Deistribution \n",
    "pdf = t.pdf(x,df)\n",
    "\n",
    "# Plot the PDF \n",
    "plt.plot(x,pdf,label=\"T-Distribution with Df=10\")\n",
    "\n",
    "# Add the Labels and Titles\n",
    "plt.title(\"Students T-Distribution\")\n",
    "plt.xlabel(\"X\")\n",
    "plt.ylabel(\"Probablity Density\")\n",
    "plt.legend()\n",
    "\n",
    "# Show the Plot \n",
    "plt.grid(True)\n",
    "plt.show()"
   ]
  },
  {
   "cell_type": "markdown",
   "id": "f0bb9590-3714-47fa-8e0b-b54b3ec58971",
   "metadata": {},
   "source": [
    "Q10. Write a Python program to calculate the two-sample t-test for independent samples, given two\n",
    "random samples of equal size and a null hypothesis that the population means are equal ."
   ]
  },
  {
   "cell_type": "code",
   "execution_count": 7,
   "id": "b9b79c03-66e5-45c9-91cb-4ea5278ac52f",
   "metadata": {},
   "outputs": [
    {
     "name": "stdout",
     "output_type": "stream",
     "text": [
      "T-Statistics: 0.5\n",
      "P-Value: 0.6305360755569764\n"
     ]
    }
   ],
   "source": [
    "from scipy import stats\n",
    "\n",
    "def two_sample_ttest(sample1,sample2):\n",
    "    # Calculate t-Statistics & p-Value\n",
    "    t_statistics,p_value = stats.ttest_ind(sample1,sample2)\n",
    "    \n",
    "    return t_statistics,p_value\n",
    "if __name__ == \"__main__\":\n",
    "    # Example usage\n",
    "    sample1=[5,7,9,11,13]\n",
    "    sample2=[4,6,8,10,12]\n",
    "    \n",
    "    t_statistics,p_value=two_sample_ttest(sample1,sample2)\n",
    "    \n",
    "    print(\"T-Statistics:\",t_statistics)\n",
    "    print(\"P-Value:\",p_value)"
   ]
  },
  {
   "cell_type": "markdown",
   "id": "f9616a03-ccc9-4f72-b3a3-08d232a65a65",
   "metadata": {},
   "source": [
    "Q11: What is Student’s t distribution? When to use the t-Distribution"
   ]
  },
  {
   "cell_type": "markdown",
   "id": "962288d8-4276-4d1a-9bd8-9f454c9b6edf",
   "metadata": {},
   "source": [
    "# T-DISTRIBUTION :\n",
    "\n",
    "* The T-Distribution or Students is a type of probablity distribution that is similar to normal with its Bell-shape\n",
    "  But has Heviar Tail.It is used fro population Parameter for Small sample Size or unkown Variance .\n",
    "  \n",
    "# Uses of T-Distribution:\n",
    "\n",
    "* Small Sample Size<30\n",
    "* unknown Population Standard Deviation\n",
    "* Estimation of Population Mean\n",
    "* Comparison of Mean"
   ]
  },
  {
   "cell_type": "markdown",
   "id": "ee8219d2-4e94-478e-ae5e-9c2039e0b77e",
   "metadata": {},
   "source": [
    "Q12: What is t-statistic? State the formula for t-statistic."
   ]
  },
  {
   "cell_type": "markdown",
   "id": "f0f0ae0d-f76d-4f83-bbab-438e883e15e1",
   "metadata": {},
   "source": [
    "* t statistics is often denoted by t,it is a meausre used in the hypothesis testing to Determine if the mean of two group \n",
    "  are significantly different from each other or if a single mean is different from a known or hypothesized population mean.\n",
    "\n",
    "# One sample t-test:\n",
    "\n",
    "* This is used when comparing of single sample mean to known or hypothesized population Mean .\n",
    "* Formula => t= sample Mean - Hypothesized population mean / sample standard deviation / Root of n\n",
    "* (i) x is Sample Mean\n",
    "* (ii) μ is the hypothesized population mean\n",
    "* (iii) s is sample Standard Deviation\n",
    "* (iv) n is the Sample Size \n",
    "\n",
    "# Independent Two Sample T-test:\n",
    "\n",
    "* This is used when comparing the mean of Two independent Sample .\n",
    "* Formula = > X Bar 1 - X bar 2/sp * Root(1/n1+1/n2)\n",
    "* (i) X Bar 1 & X Bar 2 represent the Two Sample Mean\n",
    "* (ii) Sp is the pooled Standard Deviation,Calculated as a Weighted Avergae of two sample Standard deviation\n",
    "* (iii) n1 & n2 Represent the tow sample Size "
   ]
  },
  {
   "cell_type": "markdown",
   "id": "7aed439a-51e0-4a90-aa3d-332f427dd6c4",
   "metadata": {},
   "source": [
    "Q13. A coffee shop owner wants to estimate the average daily revenue for their shop. They take a random\n",
    "sample of 50 days and find the sample mean revenue to be $500 with a standard deviation of $50.\n",
    "Estimate the population mean revenue with a 95% confidence interval."
   ]
  },
  {
   "cell_type": "code",
   "execution_count": 6,
   "id": "89951b05-35df-427d-9ccf-db5cb7f03f43",
   "metadata": {},
   "outputs": [
    {
     "name": "stdout",
     "output_type": "stream",
     "text": [
      "95% confidence Interval for population Mean Revenue \n",
      "Lower_bound: 485.79\n",
      "Upper_Bound: 514.21\n",
      "Conclusion:The Revenue of the Shop Between $485.79 To 514.21\n"
     ]
    }
   ],
   "source": [
    "import numpy as np\n",
    "from scipy import stats\n",
    "\n",
    "## This is the Test of Sample population Based :\n",
    "## Sample Statistics\n",
    "sample_mean = 500 # Sample Mean Revenue($)\n",
    "sample_std = 50 # Sample Standard Deviation ($)\n",
    "sample_size = 50 # Sample Size\n",
    "\n",
    "# Degree of Freedom :\n",
    "df = sample_size-1\n",
    "\n",
    "# Calculate the T-Score for the 95% Confidence level & df\n",
    "t_score = stats.t.ppf(0.975,df) #0.0975 Beacuse we are using two Tail T-test\n",
    "\n",
    "# Calculate the Margin of Erro :\n",
    "margin_of_error = t_score * (sample_std/np.sqrt(sample_size))\n",
    "\n",
    "# Calculate the Confidence Interval \n",
    "lower_bound = sample_mean-margin_of_error\n",
    "upper_bound = sample_mean+margin_of_error\n",
    "\n",
    "# Print the Confidence interval\n",
    "print(\"95% confidence Interval for population Mean Revenue \")\n",
    "print(\"Lower_bound:\",round(lower_bound,2))\n",
    "print(\"Upper_Bound:\",round(upper_bound,2))\n",
    "print(\"Conclusion:The Revenue of the Shop Between $485.79 To 514.21\")"
   ]
  },
  {
   "cell_type": "markdown",
   "id": "f45b0c50-a9b7-48e1-8eaa-71994f92dc99",
   "metadata": {},
   "source": [
    "Q14. A researcher hypothesizes that a new drug will decrease blood pressure by 10 mmHg. They conduct a\n",
    "clinical trial with 100 patients and find that the sample mean decrease in blood pressure is 8 mmHg with a\n",
    "standard deviation of 3 mmHg. Test the hypothesis with a significance level of 0.05"
   ]
  },
  {
   "cell_type": "code",
   "execution_count": 5,
   "id": "b1e98b0c-10c5-44cd-9231-e2f9c662d523",
   "metadata": {},
   "outputs": [
    {
     "name": "stdout",
     "output_type": "stream",
     "text": [
      "T-Score: 0.0\n",
      "Critical_value 1.6603911559963895\n",
      "Failed to Reject the Null Hypothesis:There is not Enough Evidance to suggest that the Drug Effect the Blood Pressure\n"
     ]
    }
   ],
   "source": [
    "import numpy as np\n",
    "from scipy import stats\n",
    "\n",
    "## This is Based on the Population Standard Deviation :\n",
    "## Given Data :-\n",
    "sample_mean = 8 ## Sample Mean\n",
    "population_mean = 8 ## Population Mean\n",
    "sample_std = 3 ## Sample standard deviation\n",
    "sample_size = 100 ## Sample Size \n",
    "significance_level = 0.05 ## Significance Level\n",
    "\n",
    "# Calculate the T-Score \n",
    "t_score = (sample_mean-population_mean)/(sample_std/np.sqrt(sample_size))\n",
    "\n",
    "# Calculate the Degree of FreeDom\n",
    "degree_of_freedom = sample_size - 1\n",
    "\n",
    "# Calculate the Critical Value \n",
    "critical_value = stats.t.ppf(1-significance_level,degree_of_freedom)\n",
    "\n",
    "# Prit the Result \n",
    "print(\"T-Score:\",t_score)\n",
    "print(\"Critical_value\",critical_value)\n",
    "\n",
    "# Performing the Hypothesis Test\n",
    "if t_score>critical_value:\n",
    "    print(\"Reject the Null Hypothesis:There is a Significance Evidance to suggest that the Drug effect the Blood pressure\")\n",
    "else :\n",
    "    print(\"Failed to Reject the Null Hypothesis:There is not Enough Evidance to suggest that the Drug Effect the Blood Pressure\")"
   ]
  },
  {
   "cell_type": "markdown",
   "id": "ca30a5c4-9f8f-43a3-a065-2e9f2835b928",
   "metadata": {},
   "source": [
    "Q15. An electronics company produces a certain type of product with a mean weight of 5 pounds and a\n",
    "standard deviation of 0.5 pounds. A random sample of 25 products is taken, and the sample mean weight\n",
    "is found to be 4.8 pounds. Test the hypothesis that the true mean weight of the products is less than 5\n",
    "pounds with a significance level of 0.01"
   ]
  },
  {
   "cell_type": "code",
   "execution_count": 6,
   "id": "9bccf0a1-b572-4a53-9b7e-87efff95fc15",
   "metadata": {},
   "outputs": [
    {
     "name": "stdout",
     "output_type": "stream",
     "text": [
      "T-Score: -2.0000000000000018\n",
      "Critical Value 2.4921594731575762\n",
      "Failed to Reject the Null Hypothesis: There is no significance Evidance that says that the True Mean of the Product is less than 5 Pound\n"
     ]
    }
   ],
   "source": [
    "import numpy as np\n",
    "from scipy import stats\n",
    "\n",
    "##This is Based on the Population Mean\n",
    "## USING ONE TAIL T-TEST\n",
    "\n",
    "## Given Data\n",
    "population_mean = 5 ## Given Population(Pound)\n",
    "population_std = 0.5 ## Given Population Standard Deviation\n",
    "sample_size = 25 ## Given Sample Size\n",
    "sample_mean = 4.8 ## Sample Mean\n",
    "significance_level=0.01 ## significance Level or Margin of Error\n",
    "\n",
    "# Calculate the T-Score\n",
    "t_score = (sample_mean-population_mean)/(population_std/np.sqrt(sample_size))\n",
    "\n",
    "# Calculate the Degree of FreeDom\n",
    "df = sample_size - 1\n",
    "\n",
    "# Calculating the Critical Value \n",
    "critical_value = stats.t.ppf(1-significance_level,df)\n",
    "\n",
    "# Print the Result \n",
    "print(\"T-Score:\",t_score)\n",
    "print(\"Critical Value\",critical_value)\n",
    "\n",
    "# Performing the Hypothesis Test\n",
    "if t_score>critical_value:\n",
    "    print(\"Reject the Null Hypothesis: there is significance Evidance to suggest that the True Mean weight of Product is less than 5 Pound\")\n",
    "else:\n",
    "    print(\"Failed to Reject the Null Hypothesis: There is no significance Evidance that says that the True Mean of the Product is less than 5 Pound\")"
   ]
  },
  {
   "cell_type": "markdown",
   "id": "1d9fb19f-4778-4651-8d23-a5b8b5423d9d",
   "metadata": {},
   "source": [
    "Q16. Two groups of students are given different study materials to prepare for a test. The first group (n1 =\n",
    "30) has a mean score of 80 with a standard deviation of 10, and the second group (n2 = 40) has a mean\n",
    "score of 75 with a standard deviation of 8. Test the hypothesis that the population means for the two\n",
    "groups are equal with a significance level of 0.01"
   ]
  },
  {
   "cell_type": "code",
   "execution_count": 9,
   "id": "5b20316d-2356-45c9-b9cc-591161d0fcc8",
   "metadata": {},
   "outputs": [
    {
     "name": "stdout",
     "output_type": "stream",
     "text": [
      "T-Score: 2.3239677296992913\n",
      "Critical Value: 2.6500812928169553\n",
      "Failed to Reject the Null Hypothesis: There is not Significance Evidance to Suggest that the Population Mean of Two Group is Not Equal \n"
     ]
    }
   ],
   "source": [
    "import numpy as np\n",
    "from scipy import stats\n",
    "\n",
    "## USING TWO TAIL T-TEST(BEACUSE THERE ARE TWO GROUPS) :\n",
    "\n",
    "## Given Data for Group 1 :\n",
    "n1 = 30 ## Sample Size for group 1\n",
    "mean1 = 80 ## Mean Value for group 1\n",
    "std1 = 10 ## Standard Deviation for Group 1\n",
    "\n",
    "## Given Data fro Group 2 ::\n",
    "n2 = 40 ## Sample Size for Group 2\n",
    "mean2 = 75 ## Mean Value for Group 2 \n",
    "std2 = 8 ## Standard Deviation for Group 2\n",
    "\n",
    "# Significance Level\n",
    "significance_value = 0.01\n",
    "\n",
    "# Calculate the Pooled Standard Deviation \n",
    "pooled_std = np.sqrt(((n1-1)*std1**2 + (n2-1)*std2**2)/(n1+n2-2))\n",
    "\n",
    "# Calculate the T-Score\n",
    "t_score = (mean1-mean2)/(pooled_std*np.sqrt((1/n1)+(1/n2)))\n",
    "\n",
    "# Calculate the Degree of Fredom\n",
    "df = n1+n2-2\n",
    "\n",
    "# Calculate the Critcial Value\n",
    "critical_value = stats.t.ppf(1-significance_value/2,df)\n",
    "\n",
    "# Print the Result :\n",
    "print(\"T-Score:\",t_score)\n",
    "print(\"Critical Value:\",critical_value)\n",
    "\n",
    "# Performing the Hypothesis Test :\n",
    "if np.abs(t_score) > (critical_value): ## np.abs is USed for finding the Absolute Value for any number\n",
    "    print(\"Reject the Null Hypothesis: There is a Significance Evidance to suggest that the Population Mean of Two Group is Not Equal\")\n",
    "else :\n",
    "    print(\"Failed to Reject the Null Hypothesis: There is not Significance Evidance to Suggest that the Population Mean of Two Group is Not Equal \")"
   ]
  },
  {
   "cell_type": "markdown",
   "id": "8bb0adf7-0fef-48db-8be2-00dc791cf4ee",
   "metadata": {},
   "source": [
    "Q17. A marketing company wants to estimate the average number of ads watched by viewers during a TV\n",
    "program. They take a random sample of 50 viewers and find that the sample mean is 4 with a standard\n",
    "deviation of 1.5. Estimate the population mean with a 99% confidence interval."
   ]
  },
  {
   "cell_type": "code",
   "execution_count": 10,
   "id": "ac25d4c4-10ac-49ce-a9fe-0d3e0f72cdd2",
   "metadata": {},
   "outputs": [
    {
     "name": "stdout",
     "output_type": "stream",
     "text": [
      "Population Mean Estimate(point Estimate): 4\n",
      "99% Confidence Interval:(3.453547879499036,4.546452120500964)\n"
     ]
    }
   ],
   "source": [
    "import numpy as np\n",
    "from scipy import stats\n",
    "\n",
    "## Given Data :\n",
    "sample_mean = 4 # Sample Mean\n",
    "sample_size = 50 # Sample Size\n",
    "sample_std = 1.5 # Sample Standard Deviation\n",
    "confidence_interval = 0.99 # Confidence Level\n",
    "\n",
    "# Calculate the Standard Error(Standard Deviation of Sampling Distribution)\n",
    "standard_error = sample_std/np.sqrt(sample_size)\n",
    "\n",
    "# Calculate the Margin of Error \n",
    "margin_of_error = standard_error * 2.576 # Z-Score for Confidence level 99%\n",
    "\n",
    "# Calculate the Confidence Interval \n",
    "lower_bound = sample_mean - margin_of_error\n",
    "upper_bound = sample_mean + margin_of_error\n",
    "\n",
    "# Print the Result \n",
    "print(\"Population Mean Estimate(point Estimate):\",sample_mean)\n",
    "print(\"99% Confidence Interval:({},{})\".format(lower_bound,upper_bound))"
   ]
  },
  {
   "cell_type": "code",
   "execution_count": null,
   "id": "9b9472c7-1de8-409d-a999-14f903df4676",
   "metadata": {},
   "outputs": [],
   "source": []
  }
 ],
 "metadata": {
  "kernelspec": {
   "display_name": "Python 3 (ipykernel)",
   "language": "python",
   "name": "python3"
  },
  "language_info": {
   "codemirror_mode": {
    "name": "ipython",
    "version": 3
   },
   "file_extension": ".py",
   "mimetype": "text/x-python",
   "name": "python",
   "nbconvert_exporter": "python",
   "pygments_lexer": "ipython3",
   "version": "3.10.8"
  }
 },
 "nbformat": 4,
 "nbformat_minor": 5
}
